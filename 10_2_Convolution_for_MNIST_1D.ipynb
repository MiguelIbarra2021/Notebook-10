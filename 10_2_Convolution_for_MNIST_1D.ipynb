{
  "nbformat": 4,
  "nbformat_minor": 0,
  "metadata": {
    "colab": {
      "provenance": []
    },
    "kernelspec": {
      "name": "python3",
      "display_name": "Python 3"
    },
    "language_info": {
      "name": "python"
    }
  },
  "cells": [
    {
      "cell_type": "markdown",
      "metadata": {
        "id": "view-in-github"
      },
      "source": [
        "<a href=\"https://colab.research.google.com/github/udlbook/udlbook/blob/main/Notebooks/Chap10/10_2_Convolution_for_MNIST_1D.ipynb\" target=\"_parent\"><img src=\"https://colab.research.google.com/assets/colab-badge.svg\" alt=\"Open In Colab\"/></a>"
      ]
    },
    {
      "cell_type": "markdown",
      "source": [
        "# **Notebook 10.2: Convolution for MNIST-1D**\n",
        "\n",
        "This notebook investigates a 1D convolutional network for MNIST-1D as in figure 10.7 and 10.8a.\n",
        "\n",
        "Work through the cells below, running each cell in turn. In various places you will see the words \"TO DO\". Follow the instructions at these places and make predictions about what is going to happen or write code to complete the functions.\n",
        "\n",
        "Contact me at udlbookmail@gmail.com if you find any mistakes or have any suggestions.\n",
        "\n"
      ],
      "metadata": {
        "id": "t9vk9Elugvmi"
      }
    },
    {
      "cell_type": "code",
      "source": [
        "# Run this if you're in a Colab to install MNIST 1D repository\n",
        "!pip install git+https://github.com/greydanus/mnist1d"
      ],
      "metadata": {
        "id": "D5yLObtZCi9J",
        "colab": {
          "base_uri": "https://localhost:8080/"
        },
        "outputId": "61a560cc-e12b-45aa-cd85-6ad2ab2d4ae9"
      },
      "execution_count": 1,
      "outputs": [
        {
          "output_type": "stream",
          "name": "stdout",
          "text": [
            "Collecting git+https://github.com/greydanus/mnist1d\n",
            "  Cloning https://github.com/greydanus/mnist1d to /tmp/pip-req-build-vxvyxjpc\n",
            "  Running command git clone --filter=blob:none --quiet https://github.com/greydanus/mnist1d /tmp/pip-req-build-vxvyxjpc\n",
            "  Resolved https://github.com/greydanus/mnist1d to commit 7878d96082abd200c546a07a4101fa90b30fdf7e\n",
            "  Installing build dependencies ... \u001b[?25l\u001b[?25hdone\n",
            "  Getting requirements to build wheel ... \u001b[?25l\u001b[?25hdone\n",
            "  Preparing metadata (pyproject.toml) ... \u001b[?25l\u001b[?25hdone\n",
            "Requirement already satisfied: requests in /usr/local/lib/python3.10/dist-packages (from mnist1d==0.0.2.post16) (2.32.3)\n",
            "Requirement already satisfied: numpy in /usr/local/lib/python3.10/dist-packages (from mnist1d==0.0.2.post16) (1.26.4)\n",
            "Requirement already satisfied: matplotlib in /usr/local/lib/python3.10/dist-packages (from mnist1d==0.0.2.post16) (3.7.1)\n",
            "Requirement already satisfied: scipy in /usr/local/lib/python3.10/dist-packages (from mnist1d==0.0.2.post16) (1.13.1)\n",
            "Requirement already satisfied: contourpy>=1.0.1 in /usr/local/lib/python3.10/dist-packages (from matplotlib->mnist1d==0.0.2.post16) (1.3.0)\n",
            "Requirement already satisfied: cycler>=0.10 in /usr/local/lib/python3.10/dist-packages (from matplotlib->mnist1d==0.0.2.post16) (0.12.1)\n",
            "Requirement already satisfied: fonttools>=4.22.0 in /usr/local/lib/python3.10/dist-packages (from matplotlib->mnist1d==0.0.2.post16) (4.54.1)\n",
            "Requirement already satisfied: kiwisolver>=1.0.1 in /usr/local/lib/python3.10/dist-packages (from matplotlib->mnist1d==0.0.2.post16) (1.4.7)\n",
            "Requirement already satisfied: packaging>=20.0 in /usr/local/lib/python3.10/dist-packages (from matplotlib->mnist1d==0.0.2.post16) (24.1)\n",
            "Requirement already satisfied: pillow>=6.2.0 in /usr/local/lib/python3.10/dist-packages (from matplotlib->mnist1d==0.0.2.post16) (10.4.0)\n",
            "Requirement already satisfied: pyparsing>=2.3.1 in /usr/local/lib/python3.10/dist-packages (from matplotlib->mnist1d==0.0.2.post16) (3.2.0)\n",
            "Requirement already satisfied: python-dateutil>=2.7 in /usr/local/lib/python3.10/dist-packages (from matplotlib->mnist1d==0.0.2.post16) (2.8.2)\n",
            "Requirement already satisfied: charset-normalizer<4,>=2 in /usr/local/lib/python3.10/dist-packages (from requests->mnist1d==0.0.2.post16) (3.4.0)\n",
            "Requirement already satisfied: idna<4,>=2.5 in /usr/local/lib/python3.10/dist-packages (from requests->mnist1d==0.0.2.post16) (3.10)\n",
            "Requirement already satisfied: urllib3<3,>=1.21.1 in /usr/local/lib/python3.10/dist-packages (from requests->mnist1d==0.0.2.post16) (2.2.3)\n",
            "Requirement already satisfied: certifi>=2017.4.17 in /usr/local/lib/python3.10/dist-packages (from requests->mnist1d==0.0.2.post16) (2024.8.30)\n",
            "Requirement already satisfied: six>=1.5 in /usr/local/lib/python3.10/dist-packages (from python-dateutil>=2.7->matplotlib->mnist1d==0.0.2.post16) (1.16.0)\n",
            "Building wheels for collected packages: mnist1d\n",
            "  Building wheel for mnist1d (pyproject.toml) ... \u001b[?25l\u001b[?25hdone\n",
            "  Created wheel for mnist1d: filename=mnist1d-0.0.2.post16-py3-none-any.whl size=14624 sha256=a99264c7b4c7fba75f20229a3dbda1436977897f62936953da9ab43d40431996\n",
            "  Stored in directory: /tmp/pip-ephem-wheel-cache-7zdq76xi/wheels/41/95/55/45fcf7d38cfa97e35682da6c5017d4513729131326ce935371\n",
            "Successfully built mnist1d\n",
            "Installing collected packages: mnist1d\n",
            "Successfully installed mnist1d-0.0.2.post16\n"
          ]
        }
      ]
    },
    {
      "cell_type": "code",
      "source": [
        "import numpy as np\n",
        "import os\n",
        "import torch, torch.nn as nn\n",
        "from torch.utils.data import TensorDataset, DataLoader\n",
        "from torch.optim.lr_scheduler import StepLR\n",
        "import matplotlib.pyplot as plt\n",
        "import mnist1d\n",
        "import random"
      ],
      "metadata": {
        "id": "YrXWAH7sUWvU"
      },
      "execution_count": 2,
      "outputs": []
    },
    {
      "cell_type": "code",
      "source": [
        "args = mnist1d.data.get_dataset_args()\n",
        "data = mnist1d.data.get_dataset(args, path='./mnist1d_data.pkl', download=False, regenerate=False)\n",
        "\n",
        "# The training and test input and outputs are in\n",
        "# data['x'], data['y'], data['x_test'], and data['y_test']\n",
        "print(\"Examples in training set: {}\".format(len(data['y'])))\n",
        "print(\"Examples in test set: {}\".format(len(data['y_test'])))\n",
        "print(\"Length of each example: {}\".format(data['x'].shape[-1]))"
      ],
      "metadata": {
        "id": "twI72ZCrCt5z",
        "colab": {
          "base_uri": "https://localhost:8080/"
        },
        "outputId": "92d4af4e-b8c7-4c39-de35-dec9103ce3f1"
      },
      "execution_count": 3,
      "outputs": [
        {
          "output_type": "stream",
          "name": "stdout",
          "text": [
            "Did or could not load data from ./mnist1d_data.pkl. Rebuilding dataset...\n",
            "Examples in training set: 4000\n",
            "Examples in test set: 1000\n",
            "Length of each example: 40\n"
          ]
        }
      ]
    },
    {
      "cell_type": "code",
      "source": [
        "# Load in the data\n",
        "train_data_x = data['x'].transpose()\n",
        "train_data_y = data['y']\n",
        "val_data_x = data['x_test'].transpose()\n",
        "val_data_y = data['y_test']\n",
        "# Print out sizes\n",
        "print(\"Train data: %d examples (columns), each of which has %d dimensions (rows)\"%((train_data_x.shape[1],train_data_x.shape[0])))\n",
        "print(\"Validation data: %d examples (columns), each of which has %d dimensions (rows)\"%((val_data_x.shape[1],val_data_x.shape[0])))"
      ],
      "metadata": {
        "id": "8bKADvLHbiV5",
        "colab": {
          "base_uri": "https://localhost:8080/"
        },
        "outputId": "b59fdd01-29e7-4089-a860-d350d8bd1f33"
      },
      "execution_count": 4,
      "outputs": [
        {
          "output_type": "stream",
          "name": "stdout",
          "text": [
            "Train data: 4000 examples (columns), each of which has 40 dimensions (rows)\n",
            "Validation data: 1000 examples (columns), each of which has 40 dimensions (rows)\n"
          ]
        }
      ]
    },
    {
      "cell_type": "markdown",
      "source": [
        "Define the network"
      ],
      "metadata": {
        "id": "_sFvRDGrl4qe"
      }
    },
    {
      "cell_type": "code",
      "source": [
        "# There are 40 input dimensions and 10 output dimensions for this data\n",
        "# The inputs correspond to the 40 offsets in the MNIST1D template.\n",
        "D_i = 40\n",
        "# The outputs correspond to the 10 digits\n",
        "D_o = 10\n",
        "\n",
        "\n",
        "# TODO Create a model with the following layers\n",
        "# 1. Convolutional layer, (input=length 40 and 1 channel, kernel size 3, stride 2, padding=\"valid\", 15 output channels )\n",
        "# 2. ReLU\n",
        "# 3. Convolutional layer, (input=length 19 and 15 channels, kernel size 3, stride 2, padding=\"valid\", 15 output channels )\n",
        "# 4. ReLU\n",
        "# 5. Convolutional layer, (input=length 9 and 15 channels, kernel size 3, stride 2, padding=\"valid\", 15 output channels)\n",
        "# 6. ReLU\n",
        "# 7. Flatten (converts 4x15) to length 60\n",
        "# 8. Linear layer (input size = 60, output size = 10)\n",
        "# References:\n",
        "# https://pytorch.org/docs/1.13/generated/torch.nn.Conv1d.html?highlight=conv1d#torch.nn.Conv1d\n",
        "# https://pytorch.org/docs/stable/generated/torch.nn.Flatten.html\n",
        "# https://pytorch.org/docs/1.13/generated/torch.nn.Linear.html?highlight=linear#torch.nn.Linear\n",
        "\n",
        "# NOTE THAT THE CONVOLUTIONAL LAYERS NEED TO TAKE THE NUMBER OF INPUT CHANNELS AS A PARAMETER\n",
        "# AND NOT THE INPUT SIZE.\n",
        "\n",
        "# Replace the following function:\n",
        "model = nn.Sequential(\n",
        "        nn.Conv1d(in_channels=1, out_channels=15, kernel_size=3, stride=2, padding=\"valid\"),\n",
        "        nn.ReLU(),\n",
        "        nn.Conv1d(in_channels=15, out_channels=15, kernel_size=3, stride=2, padding=\"valid\"),\n",
        "        nn.ReLU(),\n",
        "        nn.Conv1d(in_channels=15, out_channels=15, kernel_size=3, stride=2, padding=\"valid\"),\n",
        "        nn.ReLU(),\n",
        "        nn.Flatten(),\n",
        "        nn.Linear(60,10)\n",
        "        )"
      ],
      "metadata": {
        "id": "FslroPJJffrh"
      },
      "execution_count": 5,
      "outputs": []
    },
    {
      "cell_type": "code",
      "source": [
        "# He initialization of weights\n",
        "def weights_init(layer_in):\n",
        "  if isinstance(layer_in, nn.Linear):\n",
        "    nn.init.kaiming_uniform_(layer_in.weight)\n",
        "    layer_in.bias.data.fill_(0.0)"
      ],
      "metadata": {
        "id": "YgLaex1pfhqz"
      },
      "execution_count": 6,
      "outputs": []
    },
    {
      "cell_type": "code",
      "source": [
        "# choose cross entropy loss function (equation 5.24 in the loss notes)\n",
        "loss_function = nn.CrossEntropyLoss()\n",
        "# construct SGD optimizer and initialize learning rate and momentum\n",
        "optimizer = torch.optim.SGD(model.parameters(), lr = 0.05, momentum=0.9)\n",
        "# object that decreases learning rate by half every 20 epochs\n",
        "scheduler = StepLR(optimizer, step_size=20, gamma=0.5)\n",
        "# create 100 dummy data points and store in data loader class\n",
        "x_train = torch.tensor(train_data_x.transpose().astype('float32'))\n",
        "y_train = torch.tensor(train_data_y.astype('long')).long()\n",
        "x_val= torch.tensor(val_data_x.transpose().astype('float32'))\n",
        "y_val = torch.tensor(val_data_y.astype('long')).long()\n",
        "\n",
        "# load the data into a class that creates the batches\n",
        "data_loader = DataLoader(TensorDataset(x_train,y_train), batch_size=100, shuffle=True, worker_init_fn=np.random.seed(1))\n",
        "\n",
        "# Initialize model weights\n",
        "model.apply(weights_init)\n",
        "\n",
        "# loop over the dataset n_epoch times\n",
        "n_epoch = 100\n",
        "# store the loss and the % correct at each epoch\n",
        "losses_train = np.zeros((n_epoch))\n",
        "errors_train = np.zeros((n_epoch))\n",
        "losses_val = np.zeros((n_epoch))\n",
        "errors_val = np.zeros((n_epoch))\n",
        "\n",
        "for epoch in range(n_epoch):\n",
        "  # loop over batches\n",
        "  for i, data in enumerate(data_loader):\n",
        "    # retrieve inputs and labels for this batch\n",
        "    x_batch, y_batch = data\n",
        "    # zero the parameter gradients\n",
        "    optimizer.zero_grad()\n",
        "    # forward pass -- calculate model output\n",
        "    pred = model(x_batch[:,None,:])\n",
        "    # compute the loss\n",
        "    loss = loss_function(pred, y_batch)\n",
        "    # backward pass\n",
        "    loss.backward()\n",
        "    # SGD update\n",
        "    optimizer.step()\n",
        "\n",
        "  # Run whole dataset to get statistics -- normally wouldn't do this\n",
        "  pred_train = model(x_train[:,None,:])\n",
        "  pred_val = model(x_val[:,None,:])\n",
        "  _, predicted_train_class = torch.max(pred_train.data, 1)\n",
        "  _, predicted_val_class = torch.max(pred_val.data, 1)\n",
        "  errors_train[epoch] = 100 - 100 * (predicted_train_class == y_train).float().sum() / len(y_train)\n",
        "  errors_val[epoch]= 100 - 100 * (predicted_val_class == y_val).float().sum() / len(y_val)\n",
        "  losses_train[epoch] = loss_function(pred_train, y_train).item()\n",
        "  losses_val[epoch]= loss_function(pred_val, y_val).item()\n",
        "  print(f'Epoch {epoch:5d}, train loss {losses_train[epoch]:.6f}, train error {errors_train[epoch]:3.2f},  val loss {losses_val[epoch]:.6f}, percent error {errors_val[epoch]:3.2f}')\n",
        "\n",
        "  # tell scheduler to consider updating learning rate\n",
        "  scheduler.step()\n",
        "\n",
        "# Plot the results\n",
        "fig, ax = plt.subplots()\n",
        "ax.plot(errors_train,'r-',label='train')\n",
        "ax.plot(errors_val,'b-',label='validation')\n",
        "ax.set_ylim(0,100); ax.set_xlim(0,n_epoch)\n",
        "ax.set_xlabel('Epoch'); ax.set_ylabel('Error')\n",
        "ax.set_title('Part I: Validation Result %3.2f'%(errors_val[-1]))\n",
        "ax.legend()\n",
        "plt.show()"
      ],
      "metadata": {
        "id": "NYw8I_3mmX5c",
        "colab": {
          "base_uri": "https://localhost:8080/",
          "height": 1000
        },
        "outputId": "c4124bc2-f905-4054-b503-b0f3c2b70759"
      },
      "execution_count": 7,
      "outputs": [
        {
          "output_type": "stream",
          "name": "stdout",
          "text": [
            "Epoch     0, train loss 1.944352, train error 76.45,  val loss 1.958795, percent error 78.10\n",
            "Epoch     1, train loss 1.545544, train error 62.35,  val loss 1.575942, percent error 67.30\n",
            "Epoch     2, train loss 1.476142, train error 60.17,  val loss 1.506811, percent error 63.40\n",
            "Epoch     3, train loss 1.283073, train error 54.15,  val loss 1.309357, percent error 54.70\n",
            "Epoch     4, train loss 1.181083, train error 48.03,  val loss 1.226064, percent error 50.70\n",
            "Epoch     5, train loss 1.157585, train error 46.58,  val loss 1.217259, percent error 48.00\n",
            "Epoch     6, train loss 1.046446, train error 42.08,  val loss 1.110357, percent error 45.00\n",
            "Epoch     7, train loss 0.971613, train error 38.60,  val loss 1.043104, percent error 44.30\n",
            "Epoch     8, train loss 0.906493, train error 36.40,  val loss 0.973079, percent error 39.10\n",
            "Epoch     9, train loss 0.801641, train error 30.70,  val loss 0.875461, percent error 34.70\n",
            "Epoch    10, train loss 0.687501, train error 25.93,  val loss 0.776681, percent error 29.00\n",
            "Epoch    11, train loss 0.670048, train error 25.62,  val loss 0.770381, percent error 29.90\n",
            "Epoch    12, train loss 0.639078, train error 24.18,  val loss 0.725090, percent error 26.80\n",
            "Epoch    13, train loss 0.491008, train error 18.18,  val loss 0.582830, percent error 20.70\n",
            "Epoch    14, train loss 0.427929, train error 14.75,  val loss 0.501144, percent error 18.60\n",
            "Epoch    15, train loss 0.450710, train error 16.45,  val loss 0.577133, percent error 20.00\n",
            "Epoch    16, train loss 0.381365, train error 13.40,  val loss 0.473114, percent error 16.00\n",
            "Epoch    17, train loss 0.309386, train error 11.18,  val loss 0.441102, percent error 14.80\n",
            "Epoch    18, train loss 0.295342, train error 10.62,  val loss 0.387160, percent error 13.10\n",
            "Epoch    19, train loss 0.285255, train error 10.07,  val loss 0.412978, percent error 13.80\n",
            "Epoch    20, train loss 0.200461, train error 6.57,  val loss 0.350080, percent error 12.00\n",
            "Epoch    21, train loss 0.174706, train error 5.88,  val loss 0.322917, percent error 10.90\n",
            "Epoch    22, train loss 0.185813, train error 6.38,  val loss 0.326902, percent error 10.80\n",
            "Epoch    23, train loss 0.155539, train error 5.18,  val loss 0.304960, percent error 10.20\n",
            "Epoch    24, train loss 0.151287, train error 5.00,  val loss 0.316999, percent error 10.80\n",
            "Epoch    25, train loss 0.141601, train error 4.80,  val loss 0.290186, percent error 9.70\n",
            "Epoch    26, train loss 0.152152, train error 5.18,  val loss 0.314245, percent error 10.60\n",
            "Epoch    27, train loss 0.138074, train error 4.85,  val loss 0.321819, percent error 9.80\n",
            "Epoch    28, train loss 0.126017, train error 4.07,  val loss 0.306288, percent error 8.90\n",
            "Epoch    29, train loss 0.122400, train error 4.75,  val loss 0.296899, percent error 9.60\n",
            "Epoch    30, train loss 0.112422, train error 3.70,  val loss 0.310248, percent error 10.10\n",
            "Epoch    31, train loss 0.145046, train error 5.18,  val loss 0.314119, percent error 9.80\n",
            "Epoch    32, train loss 0.120252, train error 4.50,  val loss 0.307416, percent error 10.20\n",
            "Epoch    33, train loss 0.121634, train error 4.45,  val loss 0.303236, percent error 10.30\n",
            "Epoch    34, train loss 0.117598, train error 4.38,  val loss 0.323011, percent error 9.40\n",
            "Epoch    35, train loss 0.107782, train error 3.72,  val loss 0.290704, percent error 9.20\n",
            "Epoch    36, train loss 0.094912, train error 3.22,  val loss 0.307491, percent error 9.40\n",
            "Epoch    37, train loss 0.132964, train error 4.68,  val loss 0.313240, percent error 10.50\n",
            "Epoch    38, train loss 0.101514, train error 3.78,  val loss 0.299884, percent error 9.10\n",
            "Epoch    39, train loss 0.096128, train error 3.55,  val loss 0.315872, percent error 9.40\n",
            "Epoch    40, train loss 0.063176, train error 1.72,  val loss 0.279531, percent error 8.60\n",
            "Epoch    41, train loss 0.063496, train error 2.07,  val loss 0.283705, percent error 8.40\n",
            "Epoch    42, train loss 0.062863, train error 2.07,  val loss 0.282797, percent error 8.40\n",
            "Epoch    43, train loss 0.056679, train error 1.60,  val loss 0.279413, percent error 8.40\n",
            "Epoch    44, train loss 0.056257, train error 1.50,  val loss 0.276618, percent error 8.20\n",
            "Epoch    45, train loss 0.052805, train error 1.25,  val loss 0.284300, percent error 8.00\n",
            "Epoch    46, train loss 0.055224, train error 1.62,  val loss 0.299952, percent error 8.90\n",
            "Epoch    47, train loss 0.051652, train error 1.20,  val loss 0.286840, percent error 8.30\n",
            "Epoch    48, train loss 0.055733, train error 1.57,  val loss 0.291037, percent error 8.20\n",
            "Epoch    49, train loss 0.048954, train error 1.30,  val loss 0.297661, percent error 8.60\n",
            "Epoch    50, train loss 0.049217, train error 1.32,  val loss 0.302009, percent error 8.60\n",
            "Epoch    51, train loss 0.049444, train error 1.32,  val loss 0.302114, percent error 8.70\n",
            "Epoch    52, train loss 0.047140, train error 1.20,  val loss 0.302121, percent error 8.60\n",
            "Epoch    53, train loss 0.050169, train error 1.40,  val loss 0.318480, percent error 9.20\n",
            "Epoch    54, train loss 0.044892, train error 1.15,  val loss 0.307391, percent error 8.20\n",
            "Epoch    55, train loss 0.049416, train error 1.45,  val loss 0.313792, percent error 8.80\n",
            "Epoch    56, train loss 0.047040, train error 1.20,  val loss 0.310702, percent error 9.00\n",
            "Epoch    57, train loss 0.043859, train error 1.07,  val loss 0.305161, percent error 8.70\n",
            "Epoch    58, train loss 0.040222, train error 0.93,  val loss 0.301996, percent error 8.30\n",
            "Epoch    59, train loss 0.039990, train error 0.85,  val loss 0.303965, percent error 8.20\n",
            "Epoch    60, train loss 0.038781, train error 0.95,  val loss 0.306845, percent error 8.50\n",
            "Epoch    61, train loss 0.036459, train error 0.70,  val loss 0.310035, percent error 8.30\n",
            "Epoch    62, train loss 0.036430, train error 0.70,  val loss 0.312478, percent error 8.40\n",
            "Epoch    63, train loss 0.036298, train error 0.70,  val loss 0.315485, percent error 8.60\n",
            "Epoch    64, train loss 0.035472, train error 0.70,  val loss 0.311986, percent error 8.20\n",
            "Epoch    65, train loss 0.035120, train error 0.62,  val loss 0.313931, percent error 8.40\n",
            "Epoch    66, train loss 0.035183, train error 0.78,  val loss 0.316444, percent error 8.70\n",
            "Epoch    67, train loss 0.035217, train error 0.68,  val loss 0.312970, percent error 8.70\n",
            "Epoch    68, train loss 0.034769, train error 0.65,  val loss 0.322564, percent error 8.50\n",
            "Epoch    69, train loss 0.035411, train error 0.65,  val loss 0.325782, percent error 9.00\n",
            "Epoch    70, train loss 0.036282, train error 0.60,  val loss 0.324844, percent error 8.80\n",
            "Epoch    71, train loss 0.033271, train error 0.55,  val loss 0.320197, percent error 8.60\n",
            "Epoch    72, train loss 0.033503, train error 0.53,  val loss 0.318660, percent error 8.50\n",
            "Epoch    73, train loss 0.033264, train error 0.62,  val loss 0.326109, percent error 8.50\n",
            "Epoch    74, train loss 0.031960, train error 0.55,  val loss 0.323577, percent error 8.50\n",
            "Epoch    75, train loss 0.034398, train error 0.78,  val loss 0.328072, percent error 8.70\n",
            "Epoch    76, train loss 0.032205, train error 0.40,  val loss 0.326019, percent error 8.90\n",
            "Epoch    77, train loss 0.031089, train error 0.53,  val loss 0.325991, percent error 8.60\n",
            "Epoch    78, train loss 0.033445, train error 0.70,  val loss 0.333385, percent error 8.20\n",
            "Epoch    79, train loss 0.032429, train error 0.50,  val loss 0.327192, percent error 8.70\n",
            "Epoch    80, train loss 0.030290, train error 0.50,  val loss 0.330822, percent error 8.60\n",
            "Epoch    81, train loss 0.030125, train error 0.38,  val loss 0.329501, percent error 8.60\n",
            "Epoch    82, train loss 0.030327, train error 0.57,  val loss 0.331433, percent error 8.40\n",
            "Epoch    83, train loss 0.029846, train error 0.47,  val loss 0.330203, percent error 8.50\n",
            "Epoch    84, train loss 0.029568, train error 0.45,  val loss 0.330610, percent error 8.40\n",
            "Epoch    85, train loss 0.030002, train error 0.45,  val loss 0.332334, percent error 8.50\n",
            "Epoch    86, train loss 0.029394, train error 0.45,  val loss 0.333388, percent error 8.50\n",
            "Epoch    87, train loss 0.029491, train error 0.40,  val loss 0.332979, percent error 8.70\n",
            "Epoch    88, train loss 0.029004, train error 0.40,  val loss 0.331083, percent error 8.50\n",
            "Epoch    89, train loss 0.029039, train error 0.43,  val loss 0.332636, percent error 8.60\n",
            "Epoch    90, train loss 0.028714, train error 0.40,  val loss 0.334991, percent error 8.60\n",
            "Epoch    91, train loss 0.028626, train error 0.40,  val loss 0.335547, percent error 8.60\n",
            "Epoch    92, train loss 0.028444, train error 0.40,  val loss 0.336788, percent error 8.60\n",
            "Epoch    93, train loss 0.028581, train error 0.40,  val loss 0.337332, percent error 8.40\n",
            "Epoch    94, train loss 0.028543, train error 0.38,  val loss 0.335838, percent error 8.60\n",
            "Epoch    95, train loss 0.028508, train error 0.43,  val loss 0.340132, percent error 8.60\n",
            "Epoch    96, train loss 0.027979, train error 0.43,  val loss 0.337469, percent error 8.80\n",
            "Epoch    97, train loss 0.027970, train error 0.38,  val loss 0.338576, percent error 8.50\n",
            "Epoch    98, train loss 0.027650, train error 0.38,  val loss 0.338646, percent error 8.60\n",
            "Epoch    99, train loss 0.027793, train error 0.43,  val loss 0.339526, percent error 8.50\n"
          ]
        },
        {
          "output_type": "display_data",
          "data": {
            "text/plain": [
              "<Figure size 640x480 with 1 Axes>"
            ],
            "image/png": "[encoded data removed]"
          },
          "metadata": {}
        }
      ]
    }
  ]
}